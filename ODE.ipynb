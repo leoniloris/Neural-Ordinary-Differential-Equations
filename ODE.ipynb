{
 "cells": [
  {
   "cell_type": "markdown",
   "metadata": {},
   "source": [
    "# Neural Ordinary Differential Equations"
   ]
  },
  {
   "cell_type": "markdown",
   "metadata": {},
   "source": [
    "## Introduction and Motivation"
   ]
  },
  {
   "cell_type": "markdown",
   "metadata": {},
   "source": [
    "### What is an ODE?"
   ]
  },
  {
   "cell_type": "markdown",
   "metadata": {},
   "source": [
    "* Vertical Projectile motion:\n",
    "\n",
    "\n",
    "$$\\sum{F} = \\frac{dp}{dt} $$ \n",
    "\n",
    "$$- (F_{drag} + F_{grav}) = \\frac{dp}{dt} $$ \n",
    "\n",
    "$$ -(k \\frac{dy}{dt} + m g) = m \\frac{d^2y}{dt^2} $$ \n",
    "    \n",
    "By integrating both sides from $ t_0 $ to $ t_0 + t $:\n",
    "        \n",
    "$$ -(k y + m g t) = m \\frac{dy}{dt} $$ \n",
    "\n",
    "$$ \\frac{dy}{dt} = \\frac{-(k y + m g t)}{m} \\tag{1.1}$$ \n",
    "$$ \\frac{dy}{dt} = f(y, t) \\tag{1.2}$$ "
   ]
  },
  {
   "cell_type": "markdown",
   "metadata": {},
   "source": [
    "One way of numerically solving $(1.2)$, would be by integrating in $t$ with discrete steps of $t$:\n",
    "\n",
    "$$ \\frac{dy}{dt} = f(y, t) \\tag{1.2}$$ \n",
    "\n",
    "$$y(t_0 + \\Delta t) - y(t_0) = \\Delta t   f(y(t_0), t)$$\n",
    "\n",
    "$$y(t_0 + 2\\Delta t) - y(t_0 + \\Delta t) = \\Delta t   f(y(t_0 + \\Delta t), t)$$\n",
    "\n",
    "$$y(t_0 + 3\\Delta t) - y(t_0 + 2\\Delta t) = \\Delta t   f(y(t_0 + 2\\Delta t), t)$$\n",
    "\n",
    "\n",
    "$$...$$\n",
    "\n",
    "\n",
    "$$ y(t_n + \\Delta t)  = \\Delta t f(y(t_n), t) + y(t_n) \\tag{2}$$\n",
    "\n",
    "\n",
    "* The previous steps are known as `Euler's method`.\n",
    "\n",
    "* It's known for some time, that that $(2)$ resembles very much with the characteristic equation of `ResNets`, where $f(y_n, t)$ represents the output of a layer $n$ given $y_n$ as input."
   ]
  },
  {
   "cell_type": "markdown",
   "metadata": {},
   "source": [
    "### The classic ResNet example"
   ]
  },
  {
   "cell_type": "markdown",
   "metadata": {},
   "source": [
    "- ResNets had the best accuracy in the ImageNet Competition (2015)\n",
    "- ResNets uses skip-connections between layers, so the \"depth\" of the network becomes a feature to be learnt \n",
    "- Can have up to 100 layers while avoiding vanishing gradients.\n",
    "<img src=\"assets/1.png\">\n",
    "src: https://arxiv.org/abs/1512.03385\n",
    "\n",
    "### How it works?\n",
    "\n",
    "* Instead of using feeding the output of a previous layer into the next layer:\n",
    "$$\n",
    "f(z(t-1),\\ \\theta(t-1)) = z(t) $$\n",
    "\n",
    "$$\n",
    "f(z(t),\\ \\theta(t)) = z(t+1)\n",
    "$$\n",
    "\n",
    "* We feed the input of the previous layer as well:\n",
    "$$\n",
    "f(z(t-1),\\ \\theta(t-1)) + z(t-1)= z(t) $$\n",
    "\n",
    "$$\n",
    "f(z(t),\\ \\theta(t)) + z(t)= z(t+1)\n",
    "$$\n",
    "\n",
    "* Thus, if the network with $\\theta$ as parameters is trained with a set of measurements $\\{(z_0, t_0),(z_1, t_1),...,(z_M, t_M)\\}$, it will approximate the dynamics function $f(\\theta, z)$"
   ]
  },
  {
   "cell_type": "code",
   "execution_count": null,
   "metadata": {},
   "outputs": [],
   "source": []
  },
  {
   "cell_type": "markdown",
   "metadata": {},
   "source": [
    "* Given the noisy measurements:\n",
    "$$\\{(z_0, t_0),(z_1, t_1),...,(z_M, t_M)\\}$$"
   ]
  },
  {
   "cell_type": "markdown",
   "metadata": {},
   "source": [
    "* One wants to find an aproximation $\\hat{f}(z, t, \\theta)$ for the dynamics of $f(z, t)$"
   ]
  },
  {
   "cell_type": "markdown",
   "metadata": {},
   "source": [
    "\n",
    "* Given $(z_0, t_0), (z_1, t_1)$, The system begin evolving and from $z_0, t_0$ until it reaches $z_1, t_0$. \n",
    "\n",
    "\n",
    "\n",
    "* One approximation ($\\hat{z_1}, t_1$) of the $\\hat{f}(z, t, \\theta)$ would be achieved through an integration of $(1)$\n",
    "\n",
    "\n",
    "$$\\Big( \\int_{t_0}^{t_1} f(z(t), t, \\theta)dt = \\hat{z}(t_1)\\Big)$$\n"
   ]
  },
  {
   "cell_type": "markdown",
   "metadata": {},
   "source": [
    "* In the case where a optimizer wants to approximate $\\hat{z}(t)$, a cost function would be defined:\n",
    "$$\n",
    "L(z(t_1)) = L \\Big( \\int_{t_0}^{t_1} f(z(t), t, \\theta)dt \\Big) = L \\big( \\text{ODESolve}(z(t_0), f, t_0, t_1, \\theta) \\big) \\tag{2}\n",
    "$$\n",
    "\n",
    "Thus, a function $f(z(t), t, \\theta)$ with parameters $\\theta$ that approximates "
   ]
  },
  {
   "cell_type": "code",
   "execution_count": null,
   "metadata": {},
   "outputs": [],
   "source": []
  }
 ],
 "metadata": {
  "kernelspec": {
   "display_name": "Python 3",
   "language": "python",
   "name": "python3"
  },
  "language_info": {
   "codemirror_mode": {
    "name": "ipython",
    "version": 3
   },
   "file_extension": ".py",
   "mimetype": "text/x-python",
   "name": "python",
   "nbconvert_exporter": "python",
   "pygments_lexer": "ipython3",
   "version": "3.6.8"
  }
 },
 "nbformat": 4,
 "nbformat_minor": 2
}
